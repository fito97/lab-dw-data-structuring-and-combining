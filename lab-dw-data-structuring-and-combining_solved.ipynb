{
 "cells": [
  {
   "cell_type": "markdown",
   "id": "25d7736c-ba17-4aff-b6bb-66eba20fbf4e",
   "metadata": {
    "id": "25d7736c-ba17-4aff-b6bb-66eba20fbf4e"
   },
   "source": [
    "# Lab | Data Structuring and Combining Data"
   ]
  },
  {
   "cell_type": "markdown",
   "id": "a2cdfc70-44c8-478c-81e7-2bc43fdf4986",
   "metadata": {
    "id": "a2cdfc70-44c8-478c-81e7-2bc43fdf4986"
   },
   "source": [
    "## Challenge 1: Combining & Cleaning Data\n",
    "\n",
    "In this challenge, we will be working with the customer data from an insurance company, as we did in the two previous labs. The data can be found here:\n",
    "- https://raw.githubusercontent.com/data-bootcamp-v4/data/main/file1.csv\n",
    "\n",
    "But this time, we got new data, which can be found in the following 2 CSV files located at the links below.\n",
    "\n",
    "- https://raw.githubusercontent.com/data-bootcamp-v4/data/main/file2.csv\n",
    "- https://raw.githubusercontent.com/data-bootcamp-v4/data/main/file3.csv\n",
    "\n",
    "Note that you'll need to clean and format the new data.\n",
    "\n",
    "Observation:\n",
    "- One option is to first combine the three datasets and then apply the cleaning function to the new combined dataset\n",
    "- Another option would be to read the clean file you saved in the previous lab, and just clean the two new files and concatenate the three clean datasets"
   ]
  },
  {
   "cell_type": "code",
   "execution_count": 2,
   "id": "492d06e3-92c7-4105-ac72-536db98d3244",
   "metadata": {
    "id": "492d06e3-92c7-4105-ac72-536db98d3244"
   },
   "outputs": [],
   "source": [
    "import pandas as pd\n",
    "import pandas as pd\n",
    "insurance_df1 = pd.read_csv(\"https://raw.githubusercontent.com/data-bootcamp-v4/data/main/file1.csv\")\n",
    "insurance_df2 = pd.read_csv(\"https://raw.githubusercontent.com/data-bootcamp-v4/data/main/file2.csv\")\n",
    "insurance_df3 = pd.read_csv(\"https://raw.githubusercontent.com/data-bootcamp-v4/data/main/file3.csv\")\n",
    "insurance_df1 = insurance_df1.rename(columns={\"ST\":\"STATE\"})\n",
    "insurance_df2 = insurance_df2.rename(columns={\"ST\":\"STATE\"})\n",
    "\n",
    "\n"
   ]
  },
  {
   "cell_type": "code",
   "execution_count": 3,
   "id": "efb382ac",
   "metadata": {},
   "outputs": [],
   "source": [
    "insurance_df1 = insurance_df1.rename(columns=lambda x: x.upper().replace(\" \",\"_\"))\n",
    "insurance_df2 = insurance_df2.rename(columns=lambda x: x.upper().replace(\" \",\"_\"))\n",
    "insurance_df3 = insurance_df3.rename(columns=lambda x: x.upper().replace(\" \",\"_\"))"
   ]
  },
  {
   "cell_type": "code",
   "execution_count": 4,
   "id": "37875571",
   "metadata": {},
   "outputs": [
    {
     "name": "stdout",
     "output_type": "stream",
     "text": [
      "Index(['CUSTOMER', 'STATE', 'GENDER', 'EDUCATION', 'CUSTOMER_LIFETIME_VALUE',\n",
      "       'INCOME', 'MONTHLY_PREMIUM_AUTO', 'NUMBER_OF_OPEN_COMPLAINTS',\n",
      "       'POLICY_TYPE', 'VEHICLE_CLASS', 'TOTAL_CLAIM_AMOUNT'],\n",
      "      dtype='object')\n",
      "4008\n",
      "Index(['CUSTOMER', 'STATE', 'GENDER', 'EDUCATION', 'CUSTOMER_LIFETIME_VALUE',\n",
      "       'INCOME', 'MONTHLY_PREMIUM_AUTO', 'NUMBER_OF_OPEN_COMPLAINTS',\n",
      "       'TOTAL_CLAIM_AMOUNT', 'POLICY_TYPE', 'VEHICLE_CLASS'],\n",
      "      dtype='object')\n",
      "996\n",
      "Index(['CUSTOMER', 'STATE', 'CUSTOMER_LIFETIME_VALUE', 'EDUCATION', 'GENDER',\n",
      "       'INCOME', 'MONTHLY_PREMIUM_AUTO', 'NUMBER_OF_OPEN_COMPLAINTS',\n",
      "       'POLICY_TYPE', 'TOTAL_CLAIM_AMOUNT', 'VEHICLE_CLASS'],\n",
      "      dtype='object')\n",
      "7070\n",
      "12074\n"
     ]
    }
   ],
   "source": [
    "print(insurance_df1.columns)\n",
    "print(len(insurance_df1))\n",
    "print(insurance_df2.columns)\n",
    "print(len(insurance_df2))\n",
    "print(insurance_df3.columns)\n",
    "print(len(insurance_df3))\n",
    "print(len(insurance_df1)+len(insurance_df2)+len(insurance_df3))"
   ]
  },
  {
   "cell_type": "code",
   "execution_count": 5,
   "id": "ade102b6",
   "metadata": {},
   "outputs": [],
   "source": [
    "insurance_df2 = insurance_df2[insurance_df1.columns]\n",
    "insurance_df3 = insurance_df3[insurance_df1.columns]"
   ]
  },
  {
   "cell_type": "code",
   "execution_count": 6,
   "id": "e733aa1e",
   "metadata": {},
   "outputs": [],
   "source": [
    "insurance_df = pd.concat([insurance_df1,insurance_df2,insurance_df3], axis=0, ignore_index=True)"
   ]
  },
  {
   "cell_type": "code",
   "execution_count": 7,
   "id": "89cf6e02",
   "metadata": {},
   "outputs": [],
   "source": [
    "insurance_df.loc[\n",
    "    insurance_df[\"GENDER\"] == \"Male\",\n",
    "    \"GENDER\"\n",
    "] = \"M\"\n",
    "\n",
    "\n",
    "insurance_df.loc[\n",
    "    ((insurance_df[\"GENDER\"] == \"Femal\")|\n",
    "    (insurance_df[\"GENDER\"] == \"female\")),\n",
    "    \"GENDER\"\n",
    "] = \"F\"\n",
    "insurance_df.loc[\n",
    "    insurance_df[\"STATE\"]==\"AZ\",\n",
    "    \"STATE\"\n",
    "] = \"Arizona\"\n",
    "\n",
    "insurance_df.loc[\n",
    "    insurance_df[\"STATE\"]==\"Cali\",\n",
    "    \"STATE\"\n",
    "] = \"California\"\n",
    "\n",
    "insurance_df.loc[\n",
    "    insurance_df[\"STATE\"]==\"WA\",\n",
    "    \"STATE\"\n",
    "] = \"Washington\"\n",
    "insurance_df.loc[\n",
    "    insurance_df[\"EDUCATION\"] == \"Bachelors\",\n",
    "    \"EDUCATION\"\n",
    "]= \"Bachelor\"\n",
    "\n",
    "insurance_df[\"CUSTOMER_LIFETIME_VALUE\"] = insurance_df[\"CUSTOMER_LIFETIME_VALUE\"].str.replace(\"%\",\"\")\n",
    "insurance_df.loc[\n",
    "    (insurance_df[\"VEHICLE_CLASS\"] == \"Luxury SUV\") |\n",
    "    (insurance_df[\"VEHICLE_CLASS\"] == \"Luxury Car\") |\n",
    "    (insurance_df[\"VEHICLE_CLASS\"] == \"Sports Car\"),\n",
    "    \"VEHICLE_CLASS\"\n",
    "] = \"Luxury\""
   ]
  },
  {
   "cell_type": "code",
   "execution_count": 8,
   "id": "f80c5f88",
   "metadata": {},
   "outputs": [
    {
     "data": {
      "text/plain": [
       "array(['Washington', 'Arizona', 'Nevada', 'California', 'Oregon', nan],\n",
       "      dtype=object)"
      ]
     },
     "execution_count": 8,
     "metadata": {},
     "output_type": "execute_result"
    }
   ],
   "source": [
    "insurance_df.loc[\n",
    "insurance_df[\"CUSTOMER_LIFETIME_VALUE\"].isna(),\n",
    "\"CUSTOMER_LIFETIME_VALUE\"\n",
    "] = 0.00\n",
    "insurance_df[\"CUSTOMER_LIFETIME_VALUE\"] = pd.to_numeric(insurance_df[\"CUSTOMER_LIFETIME_VALUE\"])\n",
    "\n",
    "insurance_df[\"STATE\"].unique()"
   ]
  },
  {
   "cell_type": "markdown",
   "id": "31b8a9e7-7db9-4604-991b-ef6771603e57",
   "metadata": {
    "id": "31b8a9e7-7db9-4604-991b-ef6771603e57"
   },
   "source": [
    "# Challenge 2: Structuring Data"
   ]
  },
  {
   "cell_type": "markdown",
   "id": "a877fd6d-7a0c-46d2-9657-f25036e4ca4b",
   "metadata": {
    "id": "a877fd6d-7a0c-46d2-9657-f25036e4ca4b"
   },
   "source": [
    "In this challenge, we will continue to work with customer data from an insurance company, but we will use a dataset with more columns, called marketing_customer_analysis.csv, which can be found at the following link:\n",
    "\n",
    "https://raw.githubusercontent.com/data-bootcamp-v4/data/main/marketing_customer_analysis_clean.csv\n",
    "\n",
    "This dataset contains information such as customer demographics, policy details, vehicle information, and the customer's response to the last marketing campaign. Our goal is to explore and analyze this data by performing data cleaning, formatting, and structuring."
   ]
  },
  {
   "cell_type": "code",
   "execution_count": 9,
   "id": "aa10d9b0-1c27-4d3f-a8e4-db6ab73bfd26",
   "metadata": {
    "id": "aa10d9b0-1c27-4d3f-a8e4-db6ab73bfd26"
   },
   "outputs": [],
   "source": [
    "marketing_customer_analysis = pd.read_csv(\"https://raw.githubusercontent.com/data-bootcamp-v4/data/main/marketing_customer_analysis_clean.csv\")"
   ]
  },
  {
   "cell_type": "markdown",
   "id": "df35fd0d-513e-4e77-867e-429da10a9cc7",
   "metadata": {
    "id": "df35fd0d-513e-4e77-867e-429da10a9cc7"
   },
   "source": [
    "1. You work at the marketing department and you want to know which sales channel brought the most sales in terms of total revenue. Using pivot, create a summary table showing the total revenue for each sales channel (branch, call center, web, and mail).\n",
    "Round the total revenue to 2 decimal points.  Analyze the resulting table to draw insights."
   ]
  },
  {
   "cell_type": "code",
   "execution_count": 10,
   "id": "fedf580e",
   "metadata": {},
   "outputs": [
    {
     "data": {
      "text/html": [
       "<div>\n",
       "<style scoped>\n",
       "    .dataframe tbody tr th:only-of-type {\n",
       "        vertical-align: middle;\n",
       "    }\n",
       "\n",
       "    .dataframe tbody tr th {\n",
       "        vertical-align: top;\n",
       "    }\n",
       "\n",
       "    .dataframe thead th {\n",
       "        text-align: right;\n",
       "    }\n",
       "</style>\n",
       "<table border=\"1\" class=\"dataframe\">\n",
       "  <thead>\n",
       "    <tr style=\"text-align: right;\">\n",
       "      <th></th>\n",
       "      <th>income</th>\n",
       "    </tr>\n",
       "    <tr>\n",
       "      <th>sales_channel</th>\n",
       "      <th></th>\n",
       "    </tr>\n",
       "  </thead>\n",
       "  <tbody>\n",
       "    <tr>\n",
       "      <th>Agent</th>\n",
       "      <td>152490152</td>\n",
       "    </tr>\n",
       "    <tr>\n",
       "      <th>Branch</th>\n",
       "      <td>113775608</td>\n",
       "    </tr>\n",
       "    <tr>\n",
       "      <th>Call Center</th>\n",
       "      <td>81055004</td>\n",
       "    </tr>\n",
       "    <tr>\n",
       "      <th>Web</th>\n",
       "      <td>62200103</td>\n",
       "    </tr>\n",
       "  </tbody>\n",
       "</table>\n",
       "</div>"
      ],
      "text/plain": [
       "                  income\n",
       "sales_channel           \n",
       "Agent          152490152\n",
       "Branch         113775608\n",
       "Call Center     81055004\n",
       "Web             62200103"
      ]
     },
     "execution_count": 10,
     "metadata": {},
     "output_type": "execute_result"
    }
   ],
   "source": [
    "revenue_by_dept = pd.pivot_table(marketing_customer_analysis, index = \"sales_channel\",values = \"income\", aggfunc=\"sum\").round(2).sort_values(by=\"income\",ascending= False)\n",
    "revenue_by_dept"
   ]
  },
  {
   "cell_type": "markdown",
   "id": "640993b2-a291-436c-a34d-a551144f8196",
   "metadata": {
    "id": "640993b2-a291-436c-a34d-a551144f8196"
   },
   "source": [
    "2. Create a pivot table that shows the average customer lifetime value per gender and education level. Analyze the resulting table to draw insights."
   ]
  },
  {
   "cell_type": "code",
   "execution_count": 11,
   "id": "47b5b011",
   "metadata": {},
   "outputs": [
    {
     "data": {
      "text/html": [
       "<div>\n",
       "<style scoped>\n",
       "    .dataframe tbody tr th:only-of-type {\n",
       "        vertical-align: middle;\n",
       "    }\n",
       "\n",
       "    .dataframe tbody tr th {\n",
       "        vertical-align: top;\n",
       "    }\n",
       "\n",
       "    .dataframe thead th {\n",
       "        text-align: right;\n",
       "    }\n",
       "</style>\n",
       "<table border=\"1\" class=\"dataframe\">\n",
       "  <thead>\n",
       "    <tr style=\"text-align: right;\">\n",
       "      <th>education</th>\n",
       "      <th>Bachelor</th>\n",
       "      <th>College</th>\n",
       "      <th>Doctor</th>\n",
       "      <th>High School or Below</th>\n",
       "      <th>Master</th>\n",
       "    </tr>\n",
       "    <tr>\n",
       "      <th>gender</th>\n",
       "      <th></th>\n",
       "      <th></th>\n",
       "      <th></th>\n",
       "      <th></th>\n",
       "      <th></th>\n",
       "    </tr>\n",
       "  </thead>\n",
       "  <tbody>\n",
       "    <tr>\n",
       "      <th>F</th>\n",
       "      <td>13386258.0</td>\n",
       "      <td>12460108.0</td>\n",
       "      <td>1465702.0</td>\n",
       "      <td>13793600.0</td>\n",
       "      <td>3874600.0</td>\n",
       "    </tr>\n",
       "    <tr>\n",
       "      <th>M</th>\n",
       "      <td>12110062.0</td>\n",
       "      <td>12851725.0</td>\n",
       "      <td>1490482.0</td>\n",
       "      <td>12680914.0</td>\n",
       "      <td>3365559.0</td>\n",
       "    </tr>\n",
       "  </tbody>\n",
       "</table>\n",
       "</div>"
      ],
      "text/plain": [
       "education    Bachelor     College     Doctor  High School or Below     Master\n",
       "gender                                                                       \n",
       "F          13386258.0  12460108.0  1465702.0            13793600.0  3874600.0\n",
       "M          12110062.0  12851725.0  1490482.0            12680914.0  3365559.0"
      ]
     },
     "execution_count": 11,
     "metadata": {},
     "output_type": "execute_result"
    }
   ],
   "source": [
    "liftime_value_x_education = pd.pivot_table(marketing_customer_analysis, index = \"gender\", values = \"customer_lifetime_value\", columns = \"education\",aggfunc=\"sum\").round(0)\n",
    "\n",
    "liftime_value_x_education"
   ]
  },
  {
   "cell_type": "markdown",
   "id": "32c7f2e5-3d90-43e5-be33-9781b6069198",
   "metadata": {
    "id": "32c7f2e5-3d90-43e5-be33-9781b6069198"
   },
   "source": [
    "## Bonus\n",
    "\n",
    "You work at the customer service department and you want to know which months had the highest number of complaints by policy type category. Create a summary table showing the number of complaints by policy type and month.\n",
    "Show it in a long format table."
   ]
  },
  {
   "cell_type": "markdown",
   "id": "e3d09a8f-953c-448a-a5f8-2e5a8cca7291",
   "metadata": {
    "id": "e3d09a8f-953c-448a-a5f8-2e5a8cca7291"
   },
   "source": [
    "*In data analysis, a long format table is a way of structuring data in which each observation or measurement is stored in a separate row of the table. The key characteristic of a long format table is that each column represents a single variable, and each row represents a single observation of that variable.*\n",
    "\n",
    "*More information about long and wide format tables here: https://www.statology.org/long-vs-wide-data/*"
   ]
  },
  {
   "cell_type": "code",
   "execution_count": 12,
   "id": "3a069e0b-b400-470e-904d-d17582191be4",
   "metadata": {
    "id": "3a069e0b-b400-470e-904d-d17582191be4"
   },
   "outputs": [
    {
     "data": {
      "text/html": [
       "<div>\n",
       "<style scoped>\n",
       "    .dataframe tbody tr th:only-of-type {\n",
       "        vertical-align: middle;\n",
       "    }\n",
       "\n",
       "    .dataframe tbody tr th {\n",
       "        vertical-align: top;\n",
       "    }\n",
       "\n",
       "    .dataframe thead th {\n",
       "        text-align: right;\n",
       "    }\n",
       "</style>\n",
       "<table border=\"1\" class=\"dataframe\">\n",
       "  <thead>\n",
       "    <tr style=\"text-align: right;\">\n",
       "      <th>policy_type</th>\n",
       "      <th>Corporate Auto</th>\n",
       "      <th>Personal Auto</th>\n",
       "      <th>Special Auto</th>\n",
       "    </tr>\n",
       "    <tr>\n",
       "      <th>month</th>\n",
       "      <th></th>\n",
       "      <th></th>\n",
       "      <th></th>\n",
       "    </tr>\n",
       "  </thead>\n",
       "  <tbody>\n",
       "    <tr>\n",
       "      <th>1</th>\n",
       "      <td>1252</td>\n",
       "      <td>4329</td>\n",
       "      <td>237</td>\n",
       "    </tr>\n",
       "    <tr>\n",
       "      <th>2</th>\n",
       "      <td>1089</td>\n",
       "      <td>3799</td>\n",
       "      <td>204</td>\n",
       "    </tr>\n",
       "  </tbody>\n",
       "</table>\n",
       "</div>"
      ],
      "text/plain": [
       "policy_type  Corporate Auto  Personal Auto  Special Auto\n",
       "month                                                   \n",
       "1                      1252           4329           237\n",
       "2                      1089           3799           204"
      ]
     },
     "execution_count": 12,
     "metadata": {},
     "output_type": "execute_result"
    }
   ],
   "source": [
    "pd.pivot_table(marketing_customer_analysis, columns= \"policy_type\",index = \"month\", values = \"policy\",aggfunc=\"count\")"
   ]
  }
 ],
 "metadata": {
  "colab": {
   "provenance": []
  },
  "kernelspec": {
   "display_name": "base",
   "language": "python",
   "name": "python3"
  },
  "language_info": {
   "codemirror_mode": {
    "name": "ipython",
    "version": 3
   },
   "file_extension": ".py",
   "mimetype": "text/x-python",
   "name": "python",
   "nbconvert_exporter": "python",
   "pygments_lexer": "ipython3",
   "version": "3.11.5"
  }
 },
 "nbformat": 4,
 "nbformat_minor": 5
}
